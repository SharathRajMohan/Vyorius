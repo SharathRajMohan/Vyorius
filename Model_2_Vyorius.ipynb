{
 "cells": [
  {
   "cell_type": "code",
   "execution_count": 42,
   "metadata": {},
   "outputs": [],
   "source": [
    "class Drone(Location):\n",
    "    No_of_drones = 0 # Total number of Drones in service.\n",
    "    g = 9.8 # gravity\n",
    "    h = 8000 # height at which drone levitates\n",
    "    m = 1000 # mass of drone\n",
    "    \n",
    "    def __init__(self,drone_id,status,battery,capacity):\n",
    "        self.drone_id = int(drone_id)\n",
    "        self.battery = float(battery)\n",
    "        self.status = bool(status)\n",
    "        self.capacity = float(capacity)\n",
    "        self.rem_capacity = 0\n",
    "        self.curr_loc = Location.getCurrLoc(drone_id) #Co-ordinates(x,y)\n",
    "        self.dest_loc = Location.getDestLoc(status)\n",
    "        self.trav_dist = 0\n",
    "        self.point_dist = 0\n",
    "        self.work =  0\n",
    "        self.weather = Location.getWeather()\n",
    "        Drone.No_of_drones += 1\n",
    "         \n",
    "    def destinationSetter(self):\n",
    "        if(self.Status):\n",
    "            self.dest_loc = Location.DestLoc()\n",
    "    \n",
    "        \n",
    "    #Function to calculate work done attribute\n",
    "    def work_done_cal(self):\n",
    "        force,work = 0,0\n",
    "        force = (self.m*self.g*self.h)+(0.5*self.m*(self.g*self.g))\n",
    "        work = force * self.trav_dist\n",
    "        self.work = float(work)\n",
    "       \n",
    "        \n",
    "    def getDistance(self):\n",
    "        '''This function will calculate the distance between the pick\n",
    "            up point the drone current location. The value will be stored in Point_dist\n",
    "            attribute. This will done with the help of Location class. '''\n",
    "        if (self.status):\n",
    "            x1,y1 = self.dest_location[0:2]\n",
    "            x2,y2 = self.curr_location[0:2]\n",
    "            dist = (((x1-x2)**2)+((y1-y2)**2))**0.5\n",
    "            self.point_dist = float(dist)\n",
    "        else:\n",
    "            self.point_dist = 0\n",
    "    def getOrder(self):\n",
    "        ''' This function will calculate the amount of distance the drone\n",
    "            can travel with the current amount of battery. The value will stored in\n",
    "            Trav_dist attribute.'''\n",
    "        '''LOGIC : 1 unit of battery = 10.0 units of dist (assumption)'''\n",
    "        dist_left = self.battery *10.0\n",
    "        self.trav_dist = float(dist_left)\n",
    "        \n",
    "    def Capacity(self):\n",
    "        '''Will calculate the amount of load the drone can carry . The\n",
    "            value will be stored in Remain_capacity attribute.'''\n",
    "        left = self.capacity - self.work\n",
    "        self.rem_capacity = float(left)\n",
    "        \n",
    "    @classmethod\n",
    "    def from_string(cls, emp_str):\n",
    "        drone_id,status,battery,capacity = emp_str.split('-')\n",
    "        return cls(drone_id,status,battery,capacity)\n",
    "        "
   ]
  },
  {
   "cell_type": "code",
   "execution_count": 70,
   "metadata": {},
   "outputs": [
    {
     "data": {
      "text/plain": [
       "[0, 1]"
      ]
     },
     "execution_count": 70,
     "metadata": {},
     "output_type": "execute_result"
    }
   ],
   "source": [
    "s = [0,1]\n",
    "s[0:2]"
   ]
  },
  {
   "cell_type": "code",
   "execution_count": 41,
   "metadata": {},
   "outputs": [],
   "source": [
    "class A:\n",
    "    def jet(self,j):\n",
    "        return (1)"
   ]
  },
  {
   "cell_type": "code",
   "execution_count": 71,
   "metadata": {},
   "outputs": [
    {
     "name": "stdout",
     "output_type": "stream",
     "text": [
      "0\n",
      "10001.0\n",
      "1\n"
     ]
    }
   ],
   "source": [
    "class sample(A):\n",
    "    def __init__(self,dist,j):\n",
    "        self.dist = int(dist)\n",
    "        self.work = 0\n",
    "        self.j = A.jet(self,j)\n",
    "        \n",
    "        \n",
    "    def work_done_cal(self):\n",
    "        force = 1000\n",
    "        #force = (self.m*self.g*self.h)+0.5*self.m*(self.g*self.g)\n",
    "        work = force * self.dist\n",
    "        self.work = float(work)\n",
    "        \n",
    "    def work_done_cal(self,x):\n",
    "        force = 1000\n",
    "        #force = (self.m*self.g*self.h)+0.5*self.m*(self.g*self.g)\n",
    "        work = force * self.dist + x\n",
    "        self.work = float(work)\n",
    "        \n",
    "        \n",
    "s1 = sample(10,5)\n",
    "print(s1.work)            \n",
    "s1.work_done_cal(1)\n",
    "print(s1.work)\n",
    "print(s1.j)"
   ]
  },
  {
   "cell_type": "code",
   "execution_count": 43,
   "metadata": {},
   "outputs": [],
   "source": [
    "class Location(Drone):\n",
    "    def __init__(self,latitude,longitude):\n",
    "        self.latitude = float(latitude)\n",
    "        self.longitude = float(longitude)\n",
    "        \n",
    "    def getCurrLoc(drone_id):\n",
    "        # Drone Loc Function\n",
    "        return([2.88,1.45])\n",
    "        \n",
    "    def getDestLoc(status):\n",
    "        #Hub /Switch Locator\n",
    "        if status:\n",
    "            return([4,5])\n",
    "        else: \n",
    "            return(0)\n",
    "        \n",
    "    def getPickupHub(pickup_hub):\n",
    "        if len(pickup_hub)>0:\n",
    "            return([4.7,5.8])\n",
    "        else:\n",
    "            return([0.0,0.0])\n",
    "        \n",
    "    def getWeather():\n",
    "        import random\n",
    "        return(random.randint(1,5))"
   ]
  },
  {
   "cell_type": "code",
   "execution_count": null,
   "metadata": {},
   "outputs": [],
   "source": []
  },
  {
   "cell_type": "code",
   "execution_count": 6,
   "metadata": {},
   "outputs": [],
   "source": [
    "class Hub(Drone,Location):\n",
    "    def __init__(self,name,drono,source,destination,supplies_status,supplies,order_dist,order_mass):\n",
    "        self.name = str(name)\n",
    "        self.no_of_drone = int(drono)\n",
    "        self.source = Location.\n",
    "        self.destination = Location.\n",
    "        self.supplies_status = bool(supplies_status)\n",
    "        self.supplies = supplies\n",
    "        self.order_dist = float(order_dist)\n",
    "        self.order_mass = float(order_mass)\n",
    "        \n",
    "        \n",
    "        \n",
    "    def getDistance():\n",
    "        '''Distance between the pick up point and the drop point .\n",
    "            This will be done with the help of the Location class .The value is stored\n",
    "            in Order_dist attribute '''\n",
    "        o_dist = \n",
    "        self.order_dist = float(o_dist)\n",
    "        \n",
    "    def getOrder(self,pickup_hub):\n",
    "        '''This function will get the information about the order like\n",
    "        pick up point , drop point , list of supplies , estimated time, etc.'''\n",
    "        \n",
    "        self.pickup = Location.getPickupHub(pickup_hub)\n",
    "        \n",
    "        \n",
    "        \n",
    "    def efficient_drone():\n",
    "        \n",
    "    def setDelivery():\n",
    "        \n",
    "    def getMass():\n",
    "        \n",
    "    def suppliesStatus():\n",
    "        \n"
   ]
  },
  {
   "cell_type": "code",
   "execution_count": 32,
   "metadata": {},
   "outputs": [],
   "source": [
    "class Station(Hub):\n",
    "    pass"
   ]
  },
  {
   "cell_type": "code",
   "execution_count": 76,
   "metadata": {},
   "outputs": [],
   "source": [
    "class CostCal(Drone):\n",
    "    def __init__(self,work_done_cost,cost):\n",
    "        self.work_done_cost = float(work_done_cost)\n",
    "        self.cost = float(cost)\n",
    "        \n",
    "    def WorkDone(self,Drone):\n",
    "        '''The will calculate the additional amount of work done by\n",
    "        the drone by considering the weather conditions and other geographical\n",
    "        condition and store the value in attribute work_done_cost . It will call the\n",
    "        cost_calculation() function within it by passing the additional\n",
    "        work_done_cost whose return value will be stored in cost attribute . This\n",
    "        function will return the value of cost attribute .'''\n",
    "        if(Drone.weather ==1):\n",
    "            addn_work = 1.02 * Drone.work_done\n",
    "        elif(Drone.weather ==2):\n",
    "            addn_work = 1.05 * Drone.work_done\n",
    "        elif(Drone.weather ==3):\n",
    "            addn_work = 1.08 * Drone.work_done\n",
    "        elif(Drone.weather ==4):\n",
    "            addn_work = 1.1 * Drone.work_done\n",
    "            \n",
    "        self.work_done_cost = float(addn_work)\n",
    "        self.cost = Cost_calculation(work_done_cost)\n",
    "        \n",
    "        \n",
    "    def Cost_calculation(work_done_cost):\n",
    "        battery_maintainance = 100\n",
    "        maintainence_cost = 200\n",
    "        tot_cost = work_done_cost + maintainence_cost +battery_maintainance\n",
    "        return(tot_cost)\n",
    "        \n",
    "    "
   ]
  },
  {
   "cell_type": "code",
   "execution_count": 44,
   "metadata": {},
   "outputs": [],
   "source": [
    "#(self,drone_id,status,battery,capacity,trav_dist,point_dist):\n",
    "\n",
    "drone_str_1 = '1-True-100-80'\n",
    "drone_str_2 = 'Steve-Smith-30000'\n",
    "drone_str_3 = 'Jane-Doe-90000'\n",
    "\n",
    "drone_id,status,battery,capacity = drone_str_1.split('-')\n",
    "\n",
    "\n",
    "new_drone_1 = Drone.from_string(drone_str_1)"
   ]
  },
  {
   "cell_type": "code",
   "execution_count": 47,
   "metadata": {},
   "outputs": [
    {
     "data": {
      "text/plain": [
       "[2.88, 1.45]"
      ]
     },
     "execution_count": 47,
     "metadata": {},
     "output_type": "execute_result"
    }
   ],
   "source": [
    "new_drone_1.curr_loc"
   ]
  },
  {
   "cell_type": "code",
   "execution_count": 23,
   "metadata": {},
   "outputs": [],
   "source": [
    "def menu(ch):\n",
    "    print(\"1:New Order press '1'\")\n",
    "    print(\"2:List of Hubs press '2'\")\n",
    "    print(\"3:List of Stations press '3'\")\n",
    "    m = input(\"Choose an option\")\n",
    "    return(m)\n",
    "    "
   ]
  },
  {
   "cell_type": "code",
   "execution_count": 25,
   "metadata": {},
   "outputs": [
    {
     "name": "stdout",
     "output_type": "stream",
     "text": [
      "####################################################################################################\n",
      "MISSION VYORIUS\n",
      "####################################################################################################\n",
      "####################################################################################################\n",
      "\n",
      "Initializing...\n",
      "\n",
      "Loading list of all drones..\n",
      "\n",
      "Loading list of all Stations and Hubs\n",
      "Press Y/y to proceedy\n",
      "1:New Order press '1'\n",
      "2:List of Hubs press '2'\n",
      "3:List of Stations press '3'\n",
      "Choose an option1\n",
      "Enter order Details.\n",
      "\n",
      "Success\n"
     ]
    }
   ],
   "source": [
    "import time \n",
    "def main():\n",
    "    \n",
    "\n",
    "    line = '#'*100\n",
    "    print(line+'\\nMISSION VYORIUS\\n'+line)\n",
    "    print(line)\n",
    "    print(\"\\nInitializing...\")\n",
    "    #time.sleep(5)\n",
    "    print(\"\\nLoading list of all drones..\")\n",
    "    #time.sleep(5)\n",
    "    print(\"\\nLoading list of all Stations and Hubs\")\n",
    "    ch = str(input(\"Press Y/y to proceed\"))\n",
    "    while (ch=='Y' or ch=='y'):\n",
    "        op = int(menu(ch))\n",
    "        break\n",
    "    else:\n",
    "        print(\"Thank you.\")\n",
    "        \n",
    "    if(op == 1):\n",
    "        print(\"Enter order Details.\")\n",
    "        \n",
    "    print(\"\\nSuccess\")\n",
    "    \n",
    "main()"
   ]
  }
 ],
 "metadata": {
  "kernelspec": {
   "display_name": "Python 3",
   "language": "python",
   "name": "python3"
  },
  "language_info": {
   "codemirror_mode": {
    "name": "ipython",
    "version": 3
   },
   "file_extension": ".py",
   "mimetype": "text/x-python",
   "name": "python",
   "nbconvert_exporter": "python",
   "pygments_lexer": "ipython3",
   "version": "3.7.3"
  }
 },
 "nbformat": 4,
 "nbformat_minor": 2
}
